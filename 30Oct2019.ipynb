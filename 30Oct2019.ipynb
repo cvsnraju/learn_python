{
 "cells": [
  {
   "cell_type": "markdown",
   "metadata": {},
   "source": [
    "# Language Questions\n",
    "<ol>\n",
    "<li>Garbage Collection? what is its context of Python</li>\n",
    "<li>Lambda Functions/li>\n",
    "<li>Cheese</li>\n",
    "</ol>\n"
   ]
  },
  {
   "cell_type": "markdown",
   "metadata": {},
   "source": [
    "**1. Garbage Collection? what is its context of Python**\n",
    "\n",
    "Grabage collection can be done using \n",
    "\n",
    "**a.Reference counters**- Tracking the number of refernces to the object\n",
    "\n",
    "**b.Tracing**- Finding objects that are reachable by a sequence of references from certain root object considering the rest as garbage\n",
    "\n",
    "Python uses the reference counters which can immediately reclaim the object when reference counter goes zero, with cost of storing the additional values for storing integer counter per object.\n",
    "\n",
    "Tracing is used in java"
   ]
  },
  {
   "cell_type": "code",
   "execution_count": 49,
   "metadata": {
    "scrolled": true
   },
   "outputs": [
    {
     "name": "stdout",
     "output_type": "stream",
     "text": [
      "13\n"
     ]
    }
   ],
   "source": [
    "# functions created in the loop have same scope they will use same variable name and consequently, all refer to\n",
    "# the same variable i which is 10 at the end of the loop hence 13 (=(9+4))\n",
    "\n",
    "increment_by_i = [lambda x: x + i for i in range(10)]\n",
    "\n",
    "print(increment_by_i[0](4))"
   ]
  },
  {
   "cell_type": "code",
   "execution_count": 47,
   "metadata": {},
   "outputs": [
    {
     "name": "stdout",
     "output_type": "stream",
     "text": [
      "6\n"
     ]
    }
   ],
   "source": [
    "#returning the lambda from the function there by avoiding the naming conflict\n",
    "\n",
    "def create_increment_function(x):\n",
    "    \n",
    "    return lambda y: 5 + y\n",
    "\n",
    "increment_by_i = [create_increment_function(i) for i in range(10)]\n",
    "\n",
    "print(increment_by_i[1](1))\n"
   ]
  },
  {
   "cell_type": "code",
   "execution_count": 43,
   "metadata": {},
   "outputs": [
    {
     "data": {
      "text/plain": [
       "12"
      ]
     },
     "execution_count": 43,
     "metadata": {},
     "output_type": "execute_result"
    }
   ],
   "source": [
    "# Higher order functions \n",
    "\n",
    "high_ord_func = lambda x, func: x + func(x)\n",
    "\n",
    "high_ord_func(3, lambda x: x * x)"
   ]
  },
  {
   "cell_type": "code",
   "execution_count": null,
   "metadata": {},
   "outputs": [],
   "source": []
  }
 ],
 "metadata": {
  "kernelspec": {
   "display_name": "Python 3",
   "language": "python",
   "name": "python3"
  },
  "language_info": {
   "codemirror_mode": {
    "name": "ipython",
    "version": 3
   },
   "file_extension": ".py",
   "mimetype": "text/x-python",
   "name": "python",
   "nbconvert_exporter": "python",
   "pygments_lexer": "ipython3",
   "version": "3.7.4"
  }
 },
 "nbformat": 4,
 "nbformat_minor": 2
}
